{
 "cells": [
  {
   "cell_type": "markdown",
   "metadata": {},
   "source": [
    "# Home work Kafka"
   ]
  },
  {
   "cell_type": "code",
   "execution_count": 6,
   "metadata": {},
   "outputs": [],
   "source": [
    "import requests\n",
    "import sqlite3 as sql\n",
    "import pandas as pd\n",
    "import json\n",
    "import time"
   ]
  },
  {
   "cell_type": "code",
   "execution_count": 7,
   "metadata": {},
   "outputs": [
    {
     "name": "stdout",
     "output_type": "stream",
     "text": [
      "OpenSSL 1.0.2p  14 Aug 2018\n"
     ]
    }
   ],
   "source": [
    "!openssl version "
   ]
  },
  {
   "cell_type": "code",
   "execution_count": 23,
   "metadata": {},
   "outputs": [],
   "source": [
    "#import certifi\n",
    "\n",
    "#response = requests.get('https://api.coingecko.com/api/v3/exchanges/list', verify=certifi.where())"
   ]
  },
  {
   "cell_type": "code",
   "execution_count": 8,
   "metadata": {},
   "outputs": [],
   "source": [
    "def get_list_stock() -> dict:\n",
    "    url_stock = 'https://api.coingecko.com/api/v3/exchanges/list'\n",
    "    response = requests.get(url_stock, verify=False)\n",
    "   \n",
    "    return json.loads(response.text)\n",
    "\n",
    "def get_last_day_volume(id_stock: str) -> dict:\n",
    "    \n",
    "    url_response = f'https://api.coingecko.com/api/v3/exchanges/{id_stock}/volume_chart?days=1'\n",
    "    print(url_response)\n",
    "    response = requests.get(url_response, verify=False)\n",
    "    return json.loads(response.text)"
   ]
  },
  {
   "cell_type": "code",
   "execution_count": 9,
   "metadata": {},
   "outputs": [
    {
     "name": "stderr",
     "output_type": "stream",
     "text": [
      "/home/ilyagasan/anaconda3/lib/python3.7/site-packages/urllib3/connectionpool.py:857: InsecureRequestWarning: Unverified HTTPS request is being made. Adding certificate verification is strongly advised. See: https://urllib3.readthedocs.io/en/latest/advanced-usage.html#ssl-warnings\n",
      "  InsecureRequestWarning)\n"
     ]
    },
    {
     "name": "stdout",
     "output_type": "stream",
     "text": [
      "CPU times: user 7.87 ms, sys: 3.63 ms, total: 11.5 ms\n",
      "Wall time: 2.61 s\n"
     ]
    }
   ],
   "source": [
    "%%time\n",
    "list_stock = get_list_stock()[:40]"
   ]
  },
  {
   "cell_type": "code",
   "execution_count": 44,
   "metadata": {},
   "outputs": [],
   "source": [
    "#get_last_day_volume('10kswap-starknet-alpha')"
   ]
  },
  {
   "cell_type": "code",
   "execution_count": 5,
   "metadata": {},
   "outputs": [],
   "source": [
    "coins_ids = [x['id'] for x in list_stock]"
   ]
  },
  {
   "cell_type": "code",
   "execution_count": 13,
   "metadata": {},
   "outputs": [
    {
     "data": {
      "text/plain": [
       "'10kswap-starknet-alpha'"
      ]
     },
     "execution_count": 13,
     "metadata": {},
     "output_type": "execute_result"
    }
   ],
   "source": [
    "coins_ids[0]"
   ]
  },
  {
   "cell_type": "code",
   "execution_count": 18,
   "metadata": {},
   "outputs": [
    {
     "name": "stdout",
     "output_type": "stream",
     "text": [
      "https://api.coingecko.com/api/v3/exchanges/10kswap-starknet-alpha/volume_chart?days=1\n"
     ]
    },
    {
     "name": "stderr",
     "output_type": "stream",
     "text": [
      "/home/ilyagasan/anaconda3/lib/python3.7/site-packages/urllib3/connectionpool.py:857: InsecureRequestWarning: Unverified HTTPS request is being made. Adding certificate verification is strongly advised. See: https://urllib3.readthedocs.io/en/latest/advanced-usage.html#ssl-warnings\n",
      "  InsecureRequestWarning)\n"
     ]
    },
    {
     "data": {
      "text/plain": [
       "[[1719570600000.0, '0.5268202867175163'],\n",
       " [1719571200000.0, '0.5268202867175163'],\n",
       " [1719571800000.0, '0.5268864140157911'],\n",
       " [1719572400000.0, '0.5035239728094251'],\n",
       " [1719573000000.0, '0.5035239728094251'],\n",
       " [1719573600000.0, '0.5024117140280598'],\n",
       " [1719574200000.0, '0.5024111730054914'],\n",
       " [1719574800000.0, '0.5024111730054914'],\n",
       " [1719575400000.0, '0.5024111730054914'],\n",
       " [1719576000000.0, '0.50241001710153'],\n",
       " [1719576600000.0, '0.4824814402353357'],\n",
       " [1719577200000.0, '0.4824814402353357'],\n",
       " [1719577800000.0, '0.4809333778365137'],\n",
       " [1719578400000.0, '0.4809287254809361'],\n",
       " [1719579000000.0, '0.4809287254809361'],\n",
       " [1719579600000.0, '0.4809287254809361'],\n",
       " [1719580200000.0, '0.4809169073482365'],\n",
       " [1719580800000.0, '0.427350738097729'],\n",
       " [1719581400000.0, '0.427350738097729'],\n",
       " [1719582000000.0, '0.423298744849302'],\n",
       " [1719582600000.0, '0.423299753984128'],\n",
       " [1719583200000.0, '0.423299753984128'],\n",
       " [1719583800000.0, '0.423299753984128'],\n",
       " [1719584400000.0, '0.4230929448893336'],\n",
       " [1719585000000.0, '0.4411416229405392'],\n",
       " [1719585600000.0, '0.4411416229405392'],\n",
       " [1719586200000.0, '0.4444830328714986'],\n",
       " [1719586800000.0, '0.4444864336119832'],\n",
       " [1719587400000.0, '0.4444864336119832'],\n",
       " [1719588000000.0, '0.4444864336119832'],\n",
       " [1719588600000.0, '0.4440678016682447'],\n",
       " [1719589200000.0, '0.459018097983312'],\n",
       " [1719589800000.0, '0.459018097983312'],\n",
       " [1719590400000.0, '0.4628270714475658'],\n",
       " [1719591000000.0, '0.4628267188121539'],\n",
       " [1719591600000.0, '0.4628267188121539'],\n",
       " [1719592200000.0, '0.4628267188121539'],\n",
       " [1719592800000.0, '0.4628280543318275'],\n",
       " [1719593400000.0, '0.4845172515916365'],\n",
       " [1719594000000.0, '0.4845172515916365'],\n",
       " [1719594600000.0, '0.486870019702432'],\n",
       " [1719595200000.0, '0.4868704702608914'],\n",
       " [1719595800000.0, '0.4868704702608914'],\n",
       " [1719596400000.0, '0.4868704702608914'],\n",
       " [1719597000000.0, '0.4869523347173793'],\n",
       " [1719597600000.0, '0.4993098997435747'],\n",
       " [1719598200000.0, '0.4993098997435747'],\n",
       " [1719598800000.0, '0.4993098997435747'],\n",
       " [1719599400000.0, '0.5007251301919494'],\n",
       " [1719600000000.0, '0.5007251301919494'],\n",
       " [1719600600000.0, '0.5007251301919494'],\n",
       " [1719601200000.0, '0.500725683686528'],\n",
       " [1719601800000.0, '0.5047785175918429'],\n",
       " [1719602400000.0, '0.5047785175918429'],\n",
       " [1719603000000.0, '0.5057710401997004'],\n",
       " [1719603600000.0, '0.5057838889487185'],\n",
       " [1719604200000.0, '0.5057838889487185'],\n",
       " [1719604800000.0, '0.5057838889487185'],\n",
       " [1719605400000.0, '0.5057883413871984'],\n",
       " [1719606000000.0, '0.5198527622286249'],\n",
       " [1719606600000.0, '0.5218716447638588'],\n",
       " [1719607200000.0, '0.521872581156565'],\n",
       " [1719607800000.0, '0.521872581156565'],\n",
       " [1719608400000.0, '0.521872581156565'],\n",
       " [1719609000000.0, '0.5217673243920793'],\n",
       " [1719609600000.0, '0.5242298557052282'],\n",
       " [1719610200000.0, '0.5242298557052282'],\n",
       " [1719610800000.0, '0.525616358606633'],\n",
       " [1719611400000.0, '0.5256158603966623'],\n",
       " [1719612000000.0, '0.5256158603966623'],\n",
       " [1719612600000.0, '0.5256158603966623'],\n",
       " [1719613200000.0, '0.5256158700057551'],\n",
       " [1719613800000.0, '0.5230467570086225'],\n",
       " [1719614400000.0, '0.5230467570086225'],\n",
       " [1719615000000.0, '0.5233755370229018'],\n",
       " [1719615600000.0, '0.5233752491833415'],\n",
       " [1719616200000.0, '0.5233752491833415'],\n",
       " [1719616800000.0, '0.5233752491833415'],\n",
       " [1719617400000.0, '0.5233748376846336'],\n",
       " [1719618000000.0, '0.5310463945184747'],\n",
       " [1719618600000.0, '0.5310463945184747'],\n",
       " [1719619200000.0, '0.5319699589738493'],\n",
       " [1719619800000.0, '0.5319699589738493'],\n",
       " [1719620400000.0, '0.5319699589738493'],\n",
       " [1719621000000.0, '0.5319699589738493'],\n",
       " [1719621600000.0, '0.5319684470394356'],\n",
       " [1719622200000.0, '0.5270203987430165'],\n",
       " [1719622800000.0, '0.5252054040303413'],\n",
       " [1719623400000.0, '0.5250774882354536'],\n",
       " [1719624000000.0, '0.5250774882354536'],\n",
       " [1719624600000.0, '0.5250774882354536'],\n",
       " [1719625200000.0, '0.5250762221117275'],\n",
       " [1719625800000.0, '0.4855158603482582'],\n",
       " [1719626400000.0, '0.4855158603482582'],\n",
       " [1719627000000.0, '0.4852327209458941'],\n",
       " [1719627600000.0, '0.4852278436343062'],\n",
       " [1719628200000.0, '0.4852278436343062'],\n",
       " [1719628800000.0, '0.4852278436343062'],\n",
       " [1719629400000.0, '0.4852282182223236'],\n",
       " [1719630000000.0, '0.4624930439071075'],\n",
       " [1719630600000.0, '0.462545528064749'],\n",
       " [1719631200000.0, '0.4625460023262122'],\n",
       " [1719631800000.0, '0.4625460023262122'],\n",
       " [1719632400000.0, '0.4625460023262122'],\n",
       " [1719633000000.0, '0.4625460016623484'],\n",
       " [1719633600000.0, '0.4693118043560185'],\n",
       " [1719634200000.0, '0.4690478828636548'],\n",
       " [1719634800000.0, '0.4690312712274457'],\n",
       " [1719635400000.0, '0.4690312712274457'],\n",
       " [1719636000000.0, '0.4690316080519761'],\n",
       " [1719636600000.0, '0.465972532141777'],\n",
       " [1719637200000.0, '0.4657528646889774'],\n",
       " [1719637800000.0, '0.4657527989810246'],\n",
       " [1719638400000.0, '0.4657527989810246'],\n",
       " [1719639000000.0, '0.4657526546246895'],\n",
       " [1719639600000.0, '0.4807270666458466'],\n",
       " [1719640200000.0, '0.4801675395756945'],\n",
       " [1719640800000.0, '0.4801675395756945'],\n",
       " [1719641400000.0, '0.4801675395756945'],\n",
       " [1719642000000.0, '0.480156363642374'],\n",
       " [1719642600000.0, '0.502793970562789'],\n",
       " [1719643200000.0, '0.5032145310733613'],\n",
       " [1719643800000.0, '0.5032145310733613'],\n",
       " [1719644400000.0, '0.5032145310733613'],\n",
       " [1719645000000.0, '0.5032140586873832'],\n",
       " [1719645600000.0, '0.5093847692785765'],\n",
       " [1719646200000.0, '0.5090543635891277'],\n",
       " [1719646800000.0, '0.5090543635891277'],\n",
       " [1719647400000.0, '0.5090543635891277'],\n",
       " [1719648000000.0, '0.4887336604992538'],\n",
       " [1719648600000.0, '0.4887336604992538'],\n",
       " [1719649200000.0, '0.489657254002367'],\n",
       " [1719649800000.0, '0.489657254002367'],\n",
       " [1719650400000.0, '0.489657254002367'],\n",
       " [1719651000000.0, '0.4896428947546517'],\n",
       " [1719651600000.0, '0.4621336073164973'],\n",
       " [1719652200000.0, '0.4620307244140816'],\n",
       " [1719652800000.0, '0.463665584852383'],\n",
       " [1719653400000.0, '0.4673738571125362'],\n",
       " [1719654000000.0, '0.4673738571125362'],\n",
       " [1719654600000.0, '0.4673738571125362'],\n",
       " [1719655200000.0, '0.4673737948650964'],\n",
       " [1719655800000.0, '0.4693914284909642'],\n",
       " [1719656400000.0, '0.4693914284909642']]"
      ]
     },
     "execution_count": 18,
     "metadata": {},
     "output_type": "execute_result"
    }
   ],
   "source": [
    "get_last_day_volume('10kswap-starknet-alpha')"
   ]
  },
  {
   "cell_type": "code",
   "execution_count": 21,
   "metadata": {},
   "outputs": [
    {
     "name": "stdout",
     "output_type": "stream",
     "text": [
      "https://api.coingecko.com/api/v3/exchanges/10kswap-starknet-alpha/volume_chart?days=1\n"
     ]
    },
    {
     "name": "stderr",
     "output_type": "stream",
     "text": [
      "/home/ilyagasan/anaconda3/lib/python3.7/site-packages/urllib3/connectionpool.py:857: InsecureRequestWarning: Unverified HTTPS request is being made. Adding certificate verification is strongly advised. See: https://urllib3.readthedocs.io/en/latest/advanced-usage.html#ssl-warnings\n",
      "  InsecureRequestWarning)\n"
     ]
    },
    {
     "name": "stdout",
     "output_type": "stream",
     "text": [
      "https://api.coingecko.com/api/v3/exchanges/1bch/volume_chart?days=1\n"
     ]
    },
    {
     "name": "stderr",
     "output_type": "stream",
     "text": [
      "/home/ilyagasan/anaconda3/lib/python3.7/site-packages/urllib3/connectionpool.py:857: InsecureRequestWarning: Unverified HTTPS request is being made. Adding certificate verification is strongly advised. See: https://urllib3.readthedocs.io/en/latest/advanced-usage.html#ssl-warnings\n",
      "  InsecureRequestWarning)\n"
     ]
    },
    {
     "name": "stdout",
     "output_type": "stream",
     "text": [
      "https://api.coingecko.com/api/v3/exchanges/3xcalibur/volume_chart?days=1\n"
     ]
    },
    {
     "name": "stderr",
     "output_type": "stream",
     "text": [
      "/home/ilyagasan/anaconda3/lib/python3.7/site-packages/urllib3/connectionpool.py:857: InsecureRequestWarning: Unverified HTTPS request is being made. Adding certificate verification is strongly advised. See: https://urllib3.readthedocs.io/en/latest/advanced-usage.html#ssl-warnings\n",
      "  InsecureRequestWarning)\n"
     ]
    },
    {
     "name": "stdout",
     "output_type": "stream",
     "text": [
      "https://api.coingecko.com/api/v3/exchanges/9inch/volume_chart?days=1\n"
     ]
    },
    {
     "name": "stderr",
     "output_type": "stream",
     "text": [
      "/home/ilyagasan/anaconda3/lib/python3.7/site-packages/urllib3/connectionpool.py:857: InsecureRequestWarning: Unverified HTTPS request is being made. Adding certificate verification is strongly advised. See: https://urllib3.readthedocs.io/en/latest/advanced-usage.html#ssl-warnings\n",
      "  InsecureRequestWarning)\n"
     ]
    },
    {
     "name": "stdout",
     "output_type": "stream",
     "text": [
      "https://api.coingecko.com/api/v3/exchanges/aave/volume_chart?days=1\n"
     ]
    },
    {
     "name": "stderr",
     "output_type": "stream",
     "text": [
      "/home/ilyagasan/anaconda3/lib/python3.7/site-packages/urllib3/connectionpool.py:857: InsecureRequestWarning: Unverified HTTPS request is being made. Adding certificate verification is strongly advised. See: https://urllib3.readthedocs.io/en/latest/advanced-usage.html#ssl-warnings\n",
      "  InsecureRequestWarning)\n"
     ]
    },
    {
     "name": "stdout",
     "output_type": "stream",
     "text": [
      "https://api.coingecko.com/api/v3/exchanges/aboard-exchange/volume_chart?days=1\n"
     ]
    },
    {
     "name": "stderr",
     "output_type": "stream",
     "text": [
      "/home/ilyagasan/anaconda3/lib/python3.7/site-packages/urllib3/connectionpool.py:857: InsecureRequestWarning: Unverified HTTPS request is being made. Adding certificate verification is strongly advised. See: https://urllib3.readthedocs.io/en/latest/advanced-usage.html#ssl-warnings\n",
      "  InsecureRequestWarning)\n"
     ]
    },
    {
     "name": "stdout",
     "output_type": "stream",
     "text": [
      "https://api.coingecko.com/api/v3/exchanges/abstradex/volume_chart?days=1\n"
     ]
    },
    {
     "name": "stderr",
     "output_type": "stream",
     "text": [
      "/home/ilyagasan/anaconda3/lib/python3.7/site-packages/urllib3/connectionpool.py:857: InsecureRequestWarning: Unverified HTTPS request is being made. Adding certificate verification is strongly advised. See: https://urllib3.readthedocs.io/en/latest/advanced-usage.html#ssl-warnings\n",
      "  InsecureRequestWarning)\n"
     ]
    },
    {
     "name": "stdout",
     "output_type": "stream",
     "text": [
      "https://api.coingecko.com/api/v3/exchanges/abstradex-x-layer/volume_chart?days=1\n"
     ]
    },
    {
     "name": "stderr",
     "output_type": "stream",
     "text": [
      "/home/ilyagasan/anaconda3/lib/python3.7/site-packages/urllib3/connectionpool.py:857: InsecureRequestWarning: Unverified HTTPS request is being made. Adding certificate verification is strongly advised. See: https://urllib3.readthedocs.io/en/latest/advanced-usage.html#ssl-warnings\n",
      "  InsecureRequestWarning)\n"
     ]
    },
    {
     "name": "stdout",
     "output_type": "stream",
     "text": [
      "https://api.coingecko.com/api/v3/exchanges/acala_swap/volume_chart?days=1\n"
     ]
    },
    {
     "name": "stderr",
     "output_type": "stream",
     "text": [
      "/home/ilyagasan/anaconda3/lib/python3.7/site-packages/urllib3/connectionpool.py:857: InsecureRequestWarning: Unverified HTTPS request is being made. Adding certificate verification is strongly advised. See: https://urllib3.readthedocs.io/en/latest/advanced-usage.html#ssl-warnings\n",
      "  InsecureRequestWarning)\n"
     ]
    },
    {
     "name": "stdout",
     "output_type": "stream",
     "text": [
      "https://api.coingecko.com/api/v3/exchanges/acdx/volume_chart?days=1\n"
     ]
    },
    {
     "name": "stderr",
     "output_type": "stream",
     "text": [
      "/home/ilyagasan/anaconda3/lib/python3.7/site-packages/urllib3/connectionpool.py:857: InsecureRequestWarning: Unverified HTTPS request is being made. Adding certificate verification is strongly advised. See: https://urllib3.readthedocs.io/en/latest/advanced-usage.html#ssl-warnings\n",
      "  InsecureRequestWarning)\n"
     ]
    },
    {
     "name": "stdout",
     "output_type": "stream",
     "text": [
      "https://api.coingecko.com/api/v3/exchanges/ace/volume_chart?days=1\n"
     ]
    },
    {
     "name": "stderr",
     "output_type": "stream",
     "text": [
      "/home/ilyagasan/anaconda3/lib/python3.7/site-packages/urllib3/connectionpool.py:857: InsecureRequestWarning: Unverified HTTPS request is being made. Adding certificate verification is strongly advised. See: https://urllib3.readthedocs.io/en/latest/advanced-usage.html#ssl-warnings\n",
      "  InsecureRequestWarning)\n"
     ]
    },
    {
     "name": "stdout",
     "output_type": "stream",
     "text": [
      "https://api.coingecko.com/api/v3/exchanges/acsi_finance/volume_chart?days=1\n"
     ]
    },
    {
     "name": "stderr",
     "output_type": "stream",
     "text": [
      "/home/ilyagasan/anaconda3/lib/python3.7/site-packages/urllib3/connectionpool.py:857: InsecureRequestWarning: Unverified HTTPS request is being made. Adding certificate verification is strongly advised. See: https://urllib3.readthedocs.io/en/latest/advanced-usage.html#ssl-warnings\n",
      "  InsecureRequestWarning)\n"
     ]
    },
    {
     "name": "stdout",
     "output_type": "stream",
     "text": [
      "https://api.coingecko.com/api/v3/exchanges/aerodrome-base/volume_chart?days=1\n"
     ]
    },
    {
     "name": "stderr",
     "output_type": "stream",
     "text": [
      "/home/ilyagasan/anaconda3/lib/python3.7/site-packages/urllib3/connectionpool.py:857: InsecureRequestWarning: Unverified HTTPS request is being made. Adding certificate verification is strongly advised. See: https://urllib3.readthedocs.io/en/latest/advanced-usage.html#ssl-warnings\n",
      "  InsecureRequestWarning)\n"
     ]
    },
    {
     "name": "stdout",
     "output_type": "stream",
     "text": [
      "https://api.coingecko.com/api/v3/exchanges/aerodrome-slipstream/volume_chart?days=1\n"
     ]
    },
    {
     "name": "stderr",
     "output_type": "stream",
     "text": [
      "/home/ilyagasan/anaconda3/lib/python3.7/site-packages/urllib3/connectionpool.py:857: InsecureRequestWarning: Unverified HTTPS request is being made. Adding certificate verification is strongly advised. See: https://urllib3.readthedocs.io/en/latest/advanced-usage.html#ssl-warnings\n",
      "  InsecureRequestWarning)\n"
     ]
    },
    {
     "name": "stdout",
     "output_type": "stream",
     "text": [
      "https://api.coingecko.com/api/v3/exchanges/aevo/volume_chart?days=1\n"
     ]
    },
    {
     "name": "stderr",
     "output_type": "stream",
     "text": [
      "/home/ilyagasan/anaconda3/lib/python3.7/site-packages/urllib3/connectionpool.py:857: InsecureRequestWarning: Unverified HTTPS request is being made. Adding certificate verification is strongly advised. See: https://urllib3.readthedocs.io/en/latest/advanced-usage.html#ssl-warnings\n",
      "  InsecureRequestWarning)\n"
     ]
    },
    {
     "name": "stdout",
     "output_type": "stream",
     "text": [
      "https://api.coingecko.com/api/v3/exchanges/aftermath_finance/volume_chart?days=1\n"
     ]
    },
    {
     "name": "stderr",
     "output_type": "stream",
     "text": [
      "/home/ilyagasan/anaconda3/lib/python3.7/site-packages/urllib3/connectionpool.py:857: InsecureRequestWarning: Unverified HTTPS request is being made. Adding certificate verification is strongly advised. See: https://urllib3.readthedocs.io/en/latest/advanced-usage.html#ssl-warnings\n",
      "  InsecureRequestWarning)\n"
     ]
    },
    {
     "name": "stdout",
     "output_type": "stream",
     "text": [
      "https://api.coingecko.com/api/v3/exchanges/agni-finance/volume_chart?days=1\n"
     ]
    },
    {
     "name": "stderr",
     "output_type": "stream",
     "text": [
      "/home/ilyagasan/anaconda3/lib/python3.7/site-packages/urllib3/connectionpool.py:857: InsecureRequestWarning: Unverified HTTPS request is being made. Adding certificate verification is strongly advised. See: https://urllib3.readthedocs.io/en/latest/advanced-usage.html#ssl-warnings\n",
      "  InsecureRequestWarning)\n"
     ]
    },
    {
     "name": "stdout",
     "output_type": "stream",
     "text": [
      "https://api.coingecko.com/api/v3/exchanges/agora_swap/volume_chart?days=1\n"
     ]
    },
    {
     "name": "stderr",
     "output_type": "stream",
     "text": [
      "/home/ilyagasan/anaconda3/lib/python3.7/site-packages/urllib3/connectionpool.py:857: InsecureRequestWarning: Unverified HTTPS request is being made. Adding certificate verification is strongly advised. See: https://urllib3.readthedocs.io/en/latest/advanced-usage.html#ssl-warnings\n",
      "  InsecureRequestWarning)\n"
     ]
    },
    {
     "name": "stdout",
     "output_type": "stream",
     "text": [
      "https://api.coingecko.com/api/v3/exchanges/aktionariat-ethereum/volume_chart?days=1\n"
     ]
    },
    {
     "name": "stderr",
     "output_type": "stream",
     "text": [
      "/home/ilyagasan/anaconda3/lib/python3.7/site-packages/urllib3/connectionpool.py:857: InsecureRequestWarning: Unverified HTTPS request is being made. Adding certificate verification is strongly advised. See: https://urllib3.readthedocs.io/en/latest/advanced-usage.html#ssl-warnings\n",
      "  InsecureRequestWarning)\n"
     ]
    },
    {
     "name": "stdout",
     "output_type": "stream",
     "text": [
      "https://api.coingecko.com/api/v3/exchanges/alcor/volume_chart?days=1\n"
     ]
    },
    {
     "name": "stderr",
     "output_type": "stream",
     "text": [
      "/home/ilyagasan/anaconda3/lib/python3.7/site-packages/urllib3/connectionpool.py:857: InsecureRequestWarning: Unverified HTTPS request is being made. Adding certificate verification is strongly advised. See: https://urllib3.readthedocs.io/en/latest/advanced-usage.html#ssl-warnings\n",
      "  InsecureRequestWarning)\n"
     ]
    },
    {
     "name": "stdout",
     "output_type": "stream",
     "text": [
      "https://api.coingecko.com/api/v3/exchanges/alexgo/volume_chart?days=1\n"
     ]
    },
    {
     "name": "stderr",
     "output_type": "stream",
     "text": [
      "/home/ilyagasan/anaconda3/lib/python3.7/site-packages/urllib3/connectionpool.py:857: InsecureRequestWarning: Unverified HTTPS request is being made. Adding certificate verification is strongly advised. See: https://urllib3.readthedocs.io/en/latest/advanced-usage.html#ssl-warnings\n",
      "  InsecureRequestWarning)\n"
     ]
    },
    {
     "name": "stdout",
     "output_type": "stream",
     "text": [
      "https://api.coingecko.com/api/v3/exchanges/algebra_finance/volume_chart?days=1\n"
     ]
    },
    {
     "name": "stderr",
     "output_type": "stream",
     "text": [
      "/home/ilyagasan/anaconda3/lib/python3.7/site-packages/urllib3/connectionpool.py:857: InsecureRequestWarning: Unverified HTTPS request is being made. Adding certificate verification is strongly advised. See: https://urllib3.readthedocs.io/en/latest/advanced-usage.html#ssl-warnings\n",
      "  InsecureRequestWarning)\n"
     ]
    },
    {
     "name": "stdout",
     "output_type": "stream",
     "text": [
      "https://api.coingecko.com/api/v3/exchanges/alien-base/volume_chart?days=1\n"
     ]
    },
    {
     "name": "stderr",
     "output_type": "stream",
     "text": [
      "/home/ilyagasan/anaconda3/lib/python3.7/site-packages/urllib3/connectionpool.py:857: InsecureRequestWarning: Unverified HTTPS request is being made. Adding certificate verification is strongly advised. See: https://urllib3.readthedocs.io/en/latest/advanced-usage.html#ssl-warnings\n",
      "  InsecureRequestWarning)\n"
     ]
    },
    {
     "name": "stdout",
     "output_type": "stream",
     "text": [
      "https://api.coingecko.com/api/v3/exchanges/alienfi/volume_chart?days=1\n"
     ]
    },
    {
     "name": "stderr",
     "output_type": "stream",
     "text": [
      "/home/ilyagasan/anaconda3/lib/python3.7/site-packages/urllib3/connectionpool.py:857: InsecureRequestWarning: Unverified HTTPS request is being made. Adding certificate verification is strongly advised. See: https://urllib3.readthedocs.io/en/latest/advanced-usage.html#ssl-warnings\n",
      "  InsecureRequestWarning)\n"
     ]
    },
    {
     "name": "stdout",
     "output_type": "stream",
     "text": [
      "https://api.coingecko.com/api/v3/exchanges/allinxswap-opbnb/volume_chart?days=1\n"
     ]
    },
    {
     "name": "stderr",
     "output_type": "stream",
     "text": [
      "/home/ilyagasan/anaconda3/lib/python3.7/site-packages/urllib3/connectionpool.py:857: InsecureRequestWarning: Unverified HTTPS request is being made. Adding certificate verification is strongly advised. See: https://urllib3.readthedocs.io/en/latest/advanced-usage.html#ssl-warnings\n",
      "  InsecureRequestWarning)\n"
     ]
    },
    {
     "name": "stdout",
     "output_type": "stream",
     "text": [
      "https://api.coingecko.com/api/v3/exchanges/altcointrader/volume_chart?days=1\n"
     ]
    },
    {
     "name": "stderr",
     "output_type": "stream",
     "text": [
      "/home/ilyagasan/anaconda3/lib/python3.7/site-packages/urllib3/connectionpool.py:857: InsecureRequestWarning: Unverified HTTPS request is being made. Adding certificate verification is strongly advised. See: https://urllib3.readthedocs.io/en/latest/advanced-usage.html#ssl-warnings\n",
      "  InsecureRequestWarning)\n"
     ]
    },
    {
     "name": "stdout",
     "output_type": "stream",
     "text": [
      "https://api.coingecko.com/api/v3/exchanges/alterdice/volume_chart?days=1\n"
     ]
    },
    {
     "name": "stderr",
     "output_type": "stream",
     "text": [
      "/home/ilyagasan/anaconda3/lib/python3.7/site-packages/urllib3/connectionpool.py:857: InsecureRequestWarning: Unverified HTTPS request is being made. Adding certificate verification is strongly advised. See: https://urllib3.readthedocs.io/en/latest/advanced-usage.html#ssl-warnings\n",
      "  InsecureRequestWarning)\n"
     ]
    },
    {
     "name": "stdout",
     "output_type": "stream",
     "text": [
      "https://api.coingecko.com/api/v3/exchanges/amaterasu/volume_chart?days=1\n"
     ]
    },
    {
     "name": "stderr",
     "output_type": "stream",
     "text": [
      "/home/ilyagasan/anaconda3/lib/python3.7/site-packages/urllib3/connectionpool.py:857: InsecureRequestWarning: Unverified HTTPS request is being made. Adding certificate verification is strongly advised. See: https://urllib3.readthedocs.io/en/latest/advanced-usage.html#ssl-warnings\n",
      "  InsecureRequestWarning)\n"
     ]
    },
    {
     "name": "stdout",
     "output_type": "stream",
     "text": [
      "https://api.coingecko.com/api/v3/exchanges/animeswap/volume_chart?days=1\n"
     ]
    },
    {
     "name": "stderr",
     "output_type": "stream",
     "text": [
      "/home/ilyagasan/anaconda3/lib/python3.7/site-packages/urllib3/connectionpool.py:857: InsecureRequestWarning: Unverified HTTPS request is being made. Adding certificate verification is strongly advised. See: https://urllib3.readthedocs.io/en/latest/advanced-usage.html#ssl-warnings\n",
      "  InsecureRequestWarning)\n"
     ]
    },
    {
     "name": "stdout",
     "output_type": "stream",
     "text": [
      "https://api.coingecko.com/api/v3/exchanges/antfarm-avalanche/volume_chart?days=1\n"
     ]
    },
    {
     "name": "stderr",
     "output_type": "stream",
     "text": [
      "/home/ilyagasan/anaconda3/lib/python3.7/site-packages/urllib3/connectionpool.py:857: InsecureRequestWarning: Unverified HTTPS request is being made. Adding certificate verification is strongly advised. See: https://urllib3.readthedocs.io/en/latest/advanced-usage.html#ssl-warnings\n",
      "  InsecureRequestWarning)\n"
     ]
    },
    {
     "name": "stdout",
     "output_type": "stream",
     "text": [
      "https://api.coingecko.com/api/v3/exchanges/antfarm-ethereum/volume_chart?days=1\n"
     ]
    },
    {
     "name": "stderr",
     "output_type": "stream",
     "text": [
      "/home/ilyagasan/anaconda3/lib/python3.7/site-packages/urllib3/connectionpool.py:857: InsecureRequestWarning: Unverified HTTPS request is being made. Adding certificate verification is strongly advised. See: https://urllib3.readthedocs.io/en/latest/advanced-usage.html#ssl-warnings\n",
      "  InsecureRequestWarning)\n"
     ]
    },
    {
     "name": "stdout",
     "output_type": "stream",
     "text": [
      "https://api.coingecko.com/api/v3/exchanges/apertureswap/volume_chart?days=1\n"
     ]
    },
    {
     "name": "stderr",
     "output_type": "stream",
     "text": [
      "/home/ilyagasan/anaconda3/lib/python3.7/site-packages/urllib3/connectionpool.py:857: InsecureRequestWarning: Unverified HTTPS request is being made. Adding certificate verification is strongly advised. See: https://urllib3.readthedocs.io/en/latest/advanced-usage.html#ssl-warnings\n",
      "  InsecureRequestWarning)\n"
     ]
    },
    {
     "name": "stdout",
     "output_type": "stream",
     "text": [
      "https://api.coingecko.com/api/v3/exchanges/apeswap-arbitrum/volume_chart?days=1\n"
     ]
    },
    {
     "name": "stderr",
     "output_type": "stream",
     "text": [
      "/home/ilyagasan/anaconda3/lib/python3.7/site-packages/urllib3/connectionpool.py:857: InsecureRequestWarning: Unverified HTTPS request is being made. Adding certificate verification is strongly advised. See: https://urllib3.readthedocs.io/en/latest/advanced-usage.html#ssl-warnings\n",
      "  InsecureRequestWarning)\n"
     ]
    },
    {
     "name": "stdout",
     "output_type": "stream",
     "text": [
      "https://api.coingecko.com/api/v3/exchanges/apeswap_bsc/volume_chart?days=1\n"
     ]
    },
    {
     "name": "stderr",
     "output_type": "stream",
     "text": [
      "/home/ilyagasan/anaconda3/lib/python3.7/site-packages/urllib3/connectionpool.py:857: InsecureRequestWarning: Unverified HTTPS request is being made. Adding certificate verification is strongly advised. See: https://urllib3.readthedocs.io/en/latest/advanced-usage.html#ssl-warnings\n",
      "  InsecureRequestWarning)\n"
     ]
    },
    {
     "name": "stdout",
     "output_type": "stream",
     "text": [
      "https://api.coingecko.com/api/v3/exchanges/apeswap_polygon/volume_chart?days=1\n"
     ]
    },
    {
     "name": "stderr",
     "output_type": "stream",
     "text": [
      "/home/ilyagasan/anaconda3/lib/python3.7/site-packages/urllib3/connectionpool.py:857: InsecureRequestWarning: Unverified HTTPS request is being made. Adding certificate verification is strongly advised. See: https://urllib3.readthedocs.io/en/latest/advanced-usage.html#ssl-warnings\n",
      "  InsecureRequestWarning)\n"
     ]
    },
    {
     "name": "stdout",
     "output_type": "stream",
     "text": [
      "https://api.coingecko.com/api/v3/exchanges/apeswap_telos/volume_chart?days=1\n"
     ]
    },
    {
     "name": "stderr",
     "output_type": "stream",
     "text": [
      "/home/ilyagasan/anaconda3/lib/python3.7/site-packages/urllib3/connectionpool.py:857: InsecureRequestWarning: Unverified HTTPS request is being made. Adding certificate verification is strongly advised. See: https://urllib3.readthedocs.io/en/latest/advanced-usage.html#ssl-warnings\n",
      "  InsecureRequestWarning)\n"
     ]
    },
    {
     "name": "stdout",
     "output_type": "stream",
     "text": [
      "https://api.coingecko.com/api/v3/exchanges/apex_pro/volume_chart?days=1\n"
     ]
    },
    {
     "name": "stderr",
     "output_type": "stream",
     "text": [
      "/home/ilyagasan/anaconda3/lib/python3.7/site-packages/urllib3/connectionpool.py:857: InsecureRequestWarning: Unverified HTTPS request is being made. Adding certificate verification is strongly advised. See: https://urllib3.readthedocs.io/en/latest/advanced-usage.html#ssl-warnings\n",
      "  InsecureRequestWarning)\n"
     ]
    },
    {
     "name": "stdout",
     "output_type": "stream",
     "text": [
      "https://api.coingecko.com/api/v3/exchanges/aprobit/volume_chart?days=1\n"
     ]
    },
    {
     "name": "stderr",
     "output_type": "stream",
     "text": [
      "/home/ilyagasan/anaconda3/lib/python3.7/site-packages/urllib3/connectionpool.py:857: InsecureRequestWarning: Unverified HTTPS request is being made. Adding certificate verification is strongly advised. See: https://urllib3.readthedocs.io/en/latest/advanced-usage.html#ssl-warnings\n",
      "  InsecureRequestWarning)\n"
     ]
    },
    {
     "name": "stdout",
     "output_type": "stream",
     "text": [
      "https://api.coingecko.com/api/v3/exchanges/aqx/volume_chart?days=1\n"
     ]
    },
    {
     "name": "stderr",
     "output_type": "stream",
     "text": [
      "/home/ilyagasan/anaconda3/lib/python3.7/site-packages/urllib3/connectionpool.py:857: InsecureRequestWarning: Unverified HTTPS request is being made. Adding certificate verification is strongly advised. See: https://urllib3.readthedocs.io/en/latest/advanced-usage.html#ssl-warnings\n",
      "  InsecureRequestWarning)\n"
     ]
    },
    {
     "name": "stdout",
     "output_type": "stream",
     "text": [
      "https://api.coingecko.com/api/v3/exchanges/aqx_derivatives/volume_chart?days=1\n"
     ]
    },
    {
     "name": "stderr",
     "output_type": "stream",
     "text": [
      "/home/ilyagasan/anaconda3/lib/python3.7/site-packages/urllib3/connectionpool.py:857: InsecureRequestWarning: Unverified HTTPS request is being made. Adding certificate verification is strongly advised. See: https://urllib3.readthedocs.io/en/latest/advanced-usage.html#ssl-warnings\n",
      "  InsecureRequestWarning)\n"
     ]
    }
   ],
   "source": [
    "values_dict = dict()\n",
    "for coin_id in coins_ids:\n",
    "    values_dict[coin_id] = []\n",
    "\n",
    "for coin_id in coins_ids:\n",
    "    data = get_last_day_volume(coin_id)\n",
    "    for cost in data:\n",
    "        values_dict[coin_id].append(cost[1])\n",
    "    time.sleep(12)"
   ]
  },
  {
   "cell_type": "code",
   "execution_count": 24,
   "metadata": {},
   "outputs": [],
   "source": [
    "from confluent_kafka import Producer\n",
    "\n",
    "from datetime import datetime\n",
    "import socket"
   ]
  },
  {
   "cell_type": "code",
   "execution_count": 42,
   "metadata": {},
   "outputs": [],
   "source": [
    "topick = 'coins_stock'\n",
    "\n",
    "config =  {'bootstrap.servers': 'localhost:9092',\n",
    "    'client.id': socket.gethostname()}\n",
    "\n",
    "producer = Producer(config)"
   ]
  },
  {
   "cell_type": "code",
   "execution_count": 47,
   "metadata": {},
   "outputs": [
    {
     "name": "stdout",
     "output_type": "stream",
     "text": [
      "10kswap-starknet-alpha\n",
      "1bch\n",
      "3xcalibur\n",
      "9inch\n",
      "aave\n",
      "aboard-exchange\n",
      "abstradex\n",
      "abstradex-x-layer\n",
      "acala_swap\n",
      "acdx\n",
      "ace\n",
      "acsi_finance\n",
      "aerodrome-base\n",
      "aerodrome-slipstream\n",
      "aevo\n",
      "aftermath_finance\n",
      "agni-finance\n",
      "agora_swap\n",
      "aktionariat-ethereum\n",
      "alcor\n",
      "alexgo\n",
      "algebra_finance\n",
      "alien-base\n",
      "alienfi\n",
      "allinxswap-opbnb\n",
      "altcointrader\n",
      "alterdice\n",
      "amaterasu\n",
      "animeswap\n",
      "antfarm-avalanche\n",
      "antfarm-ethereum\n",
      "apertureswap\n",
      "apeswap-arbitrum\n",
      "apeswap_bsc\n",
      "apeswap_polygon\n",
      "apeswap_telos\n",
      "apex_pro\n",
      "aprobit\n",
      "aqx\n",
      "aqx_derivatives\n"
     ]
    },
    {
     "data": {
      "text/plain": [
       "0"
      ]
     },
     "execution_count": 47,
     "metadata": {},
     "output_type": "execute_result"
    }
   ],
   "source": [
    "message = dict()\n",
    "for key in values_dict.keys():\n",
    "    message[\"name\"] = key\n",
    "    message[\"values\"] = values_dict[key]\n",
    "    message_bytes = str.encode(json.dumps(message))\n",
    "\n",
    "    producer.produce(\n",
    "    topic =topick,\n",
    "    value=message_bytes,\n",
    "    partition=0,\n",
    "    )\n",
    "    print(key)\n",
    "producer.flush()\n"
   ]
  },
  {
   "cell_type": "code",
   "execution_count": 36,
   "metadata": {},
   "outputs": [],
   "source": [
    "from kafka.admin import KafkaAdminClient"
   ]
  },
  {
   "cell_type": "code",
   "execution_count": 44,
   "metadata": {},
   "outputs": [
    {
     "name": "stdout",
     "output_type": "stream",
     "text": [
      "Список топиков в Kafka:\n",
      "coins_stock\n",
      "__consumer_offsets\n"
     ]
    }
   ],
   "source": [
    "kafka_bootstrap_servers = 'localhost:9092'  # Замените на адрес вашего Kafka брокера\n",
    "\n",
    "# Создаем клиент KafkaAdminClient\n",
    "admin_client = KafkaAdminClient(\n",
    "    bootstrap_servers=kafka_bootstrap_servers,\n",
    "    client_id='my_client'\n",
    ")\n",
    "topics = admin_client.list_topics()\n",
    "\n",
    "# Выводим список топиков\n",
    "print(\"Список топиков в Kafka:\")\n",
    "for topic in topics:\n",
    "    print(topic)"
   ]
  },
  {
   "cell_type": "code",
   "execution_count": 40,
   "metadata": {},
   "outputs": [
    {
     "name": "stdout",
     "output_type": "stream",
     "text": [
      "Топик 'coins_stock' удален.\n"
     ]
    }
   ],
   "source": [
    "from confluent_kafka.admin import AdminClient\n",
    "\n",
    "# Параметры подключения к Kafka\n",
    "kafka_bootstrap_servers = 'localhost:9092'  # Замените на адрес вашего Kafka брокера\n",
    "\n",
    "# Создаем клиент AdminClient\n",
    "admin_client = AdminClient({\n",
    "    'bootstrap.servers': kafka_bootstrap_servers\n",
    "})\n",
    "\n",
    "# Удаляем топик\n",
    "future = admin_client.delete_topics(['coins_stock'])\n",
    "result = future['coins_stock'].result()  # Ждем результата операции\n",
    "\n",
    "if result is None:\n",
    "    print(\"Топик 'coins_stock' удален.\")\n",
    "else:\n",
    "    print(f\"Ошибка при удалении топика: {result}\")"
   ]
  }
 ],
 "metadata": {
  "kernelspec": {
   "display_name": "Python 3",
   "language": "python",
   "name": "python3"
  },
  "language_info": {
   "codemirror_mode": {
    "name": "ipython",
    "version": 3
   },
   "file_extension": ".py",
   "mimetype": "text/x-python",
   "name": "python",
   "nbconvert_exporter": "python",
   "pygments_lexer": "ipython3",
   "version": "3.7.0"
  }
 },
 "nbformat": 4,
 "nbformat_minor": 2
}
