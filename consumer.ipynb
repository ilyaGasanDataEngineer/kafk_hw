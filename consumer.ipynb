{
 "cells": [
  {
   "cell_type": "markdown",
   "metadata": {},
   "source": [
    "# consumer"
   ]
  },
  {
   "cell_type": "code",
   "execution_count": 1,
   "metadata": {},
   "outputs": [],
   "source": [
    "from confluent_kafka import Consumer\n",
    "import socket\n",
    "import json\n",
    "import numpy as np\n",
    "import pandas as pd"
   ]
  },
  {
   "cell_type": "code",
   "execution_count": 2,
   "metadata": {},
   "outputs": [
    {
     "name": "stdout",
     "output_type": "stream",
     "text": [
      "1\n"
     ]
    }
   ],
   "source": [
    "import os, os.path\n",
    "\n",
    "# simple version for working with CWD\n",
    "\n",
    "# path joining version for other paths\n",
    "DIR = './data'\n",
    "print (len(os.listdir(DIR)))\n"
   ]
  },
  {
   "cell_type": "code",
   "execution_count": null,
   "metadata": {},
   "outputs": [],
   "source": [
    "\n",
    "DIR = './data/'\n",
    "\n",
    "config = {\n",
    "    'bootstrap.servers': 'localhost:9092',\n",
    "    'group.id': 'my_group',\n",
    "    'auto.offset.reset': 'earliest',\n",
    "    'client.id': socket.gethostname()\n",
    "}\n",
    "\n",
    "try:\n",
    "    consumer.close()\n",
    "except:\n",
    "    pass\n",
    "\n",
    "consumer = Consumer(config)\n",
    "\n",
    "topic = 'coins_stock'\n",
    "consumer.subscribe([topic])\n",
    "\n",
    "def message_splitter(msgs: list, count_files: int):\n",
    "    list_dicts = []\n",
    "\n",
    "    for msg in msgs:\n",
    "        dict_splited = {'name': msg['name']}\n",
    "        values = msg['values']\n",
    "\n",
    "        averaged_values = []\n",
    "        buffer = []\n",
    "        for value in values:\n",
    "            try:\n",
    "                numeric_value = float(value)  # Convert value to float\n",
    "                buffer.append(numeric_value)\n",
    "            except ValueError:\n",
    "                print(f\"Non-numeric value encountered: {value}\")\n",
    "            if len(buffer) == 6:\n",
    "                averaged_values.append(np.mean(buffer))\n",
    "                buffer = []\n",
    "\n",
    "        if buffer:\n",
    "            averaged_values.append(np.mean(buffer))\n",
    "\n",
    "        dict_splited['values'] = averaged_values\n",
    "        list_dicts.append(dict_splited)\n",
    "\n",
    "    names = [d['name'] for d in list_dicts]\n",
    "    max_len = max(len(d['values']) for d in list_dicts)\n",
    "    values = [d['values'] + [np.nan] * (max_len - len(d['values'])) for d in list_dicts]\n",
    "    \n",
    "    file_path = f'{DIR}/output{count_files}.csv'\n",
    "    \n",
    "    if os.path.exists(file_path):\n",
    "        existing_df = pd.read_csv(file_path, index_col='name')\n",
    "        new_df = pd.DataFrame(values, index=names)\n",
    "        new_df.columns = [f'value{i+1}' for i in range(max_len)]\n",
    "        combined_df = pd.concat([existing_df, new_df])\n",
    "        combined_df.to_csv(file_path, index_label='name')\n",
    "    else:\n",
    "        df = pd.DataFrame(values, index=names)\n",
    "        df.columns = [f'value{i+1}' for i in range(max_len)]\n",
    "        df.to_csv(file_path, index_label='name')\n",
    "\n",
    "    return df\n",
    "\n",
    "counter = 0\n",
    "buffer = []\n",
    "try:\n",
    "    while True:\n",
    "        msg = consumer.poll(timeout=1.0)\n",
    "        if msg is None:\n",
    "            continue\n",
    "        if msg.error():\n",
    "            if msg.error().code() == KafkaError._PARTITION_EOF:\n",
    "                print(f\"End of partition reached {msg.partition()}\")\n",
    "            elif msg.error():\n",
    "                raise KafkaException(msg.error())\n",
    "        else:\n",
    "            if counter < 5:\n",
    "                message_value = msg.value().decode('utf-8')\n",
    "                message_dict = json.loads(message_value)\n",
    "                counter += 1\n",
    "                buffer.append(message_dict)\n",
    "                print(counter)\n",
    "            else:\n",
    "                count_files = len(os.listdir(DIR))\n",
    "                message_splitter(buffer, count_files)\n",
    "                counter = 0\n",
    "                buffer = []\n",
    "except KeyboardInterrupt:\n",
    "    pass\n",
    "finally:\n",
    "    consumer.close()"
   ]
  },
  {
   "cell_type": "code",
   "execution_count": null,
   "metadata": {},
   "outputs": [],
   "source": []
  }
 ],
 "metadata": {
  "kernelspec": {
   "display_name": "Python 3",
   "language": "python",
   "name": "python3"
  },
  "language_info": {
   "codemirror_mode": {
    "name": "ipython",
    "version": 3
   },
   "file_extension": ".py",
   "mimetype": "text/x-python",
   "name": "python",
   "nbconvert_exporter": "python",
   "pygments_lexer": "ipython3",
   "version": "3.7.0"
  }
 },
 "nbformat": 4,
 "nbformat_minor": 2
}
