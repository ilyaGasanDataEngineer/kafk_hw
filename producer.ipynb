{
 "cells": [
  {
   "cell_type": "markdown",
   "metadata": {},
   "source": [
    "# Home work Kafka"
   ]
  },
  {
   "cell_type": "code",
   "execution_count": 3,
   "metadata": {},
   "outputs": [],
   "source": [
    "import requests\n",
    "import sqlite3 as sql\n",
    "import pandas as pd\n",
    "import json\n",
    "import time"
   ]
  },
  {
   "cell_type": "code",
   "execution_count": 4,
   "metadata": {},
   "outputs": [
    {
     "name": "stdout",
     "output_type": "stream",
     "text": [
      "OpenSSL 1.0.2p  14 Aug 2018\n"
     ]
    }
   ],
   "source": [
    "!openssl version "
   ]
  },
  {
   "cell_type": "code",
   "execution_count": 5,
   "metadata": {},
   "outputs": [],
   "source": [
    "#import certifi\n",
    "\n",
    "#response = requests.get('https://api.coingecko.com/api/v3/exchanges/list', verify=certifi.where())"
   ]
  },
  {
   "cell_type": "code",
   "execution_count": 6,
   "metadata": {},
   "outputs": [],
   "source": [
    "def get_list_stock() -> dict:\n",
    "    url_stock = 'https://api.coingecko.com/api/v3/exchanges/list'\n",
    "    response = requests.get(url_stock, verify=False)\n",
    "   \n",
    "    return json.loads(response.text)\n",
    "\n",
    "def get_last_day_volume(id_stock: str) -> dict:\n",
    "    \n",
    "    url_response = f'https://api.coingecko.com/api/v3/exchanges/{id_stock}/volume_chart?days=1'\n",
    "    print(url_response)\n",
    "    response = requests.get(url_response, verify=False)\n",
    "    return json.loads(response.text)"
   ]
  },
  {
   "cell_type": "code",
   "execution_count": 7,
   "metadata": {},
   "outputs": [
    {
     "name": "stderr",
     "output_type": "stream",
     "text": [
      "/home/ilyagasan/anaconda3/lib/python3.7/site-packages/urllib3/connectionpool.py:857: InsecureRequestWarning: Unverified HTTPS request is being made. Adding certificate verification is strongly advised. See: https://urllib3.readthedocs.io/en/latest/advanced-usage.html#ssl-warnings\n",
      "  InsecureRequestWarning)\n"
     ]
    },
    {
     "name": "stdout",
     "output_type": "stream",
     "text": [
      "CPU times: user 7.66 ms, sys: 6.29 ms, total: 13.9 ms\n",
      "Wall time: 830 ms\n"
     ]
    }
   ],
   "source": [
    "%%time\n",
    "list_stock = get_list_stock()[:20]"
   ]
  },
  {
   "cell_type": "code",
   "execution_count": 8,
   "metadata": {},
   "outputs": [],
   "source": [
    "#get_last_day_volume('10kswap-starknet-alpha')"
   ]
  },
  {
   "cell_type": "code",
   "execution_count": 9,
   "metadata": {},
   "outputs": [],
   "source": [
    "coins_ids = [x['id'] for x in list_stock]"
   ]
  },
  {
   "cell_type": "code",
   "execution_count": 10,
   "metadata": {},
   "outputs": [
    {
     "data": {
      "text/plain": [
       "'10kswap-starknet-alpha'"
      ]
     },
     "execution_count": 10,
     "metadata": {},
     "output_type": "execute_result"
    }
   ],
   "source": [
    "coins_ids[0]"
   ]
  },
  {
   "cell_type": "code",
   "execution_count": 11,
   "metadata": {},
   "outputs": [
    {
     "name": "stdout",
     "output_type": "stream",
     "text": [
      "https://api.coingecko.com/api/v3/exchanges/10kswap-starknet-alpha/volume_chart?days=1\n"
     ]
    },
    {
     "name": "stderr",
     "output_type": "stream",
     "text": [
      "/home/ilyagasan/anaconda3/lib/python3.7/site-packages/urllib3/connectionpool.py:857: InsecureRequestWarning: Unverified HTTPS request is being made. Adding certificate verification is strongly advised. See: https://urllib3.readthedocs.io/en/latest/advanced-usage.html#ssl-warnings\n",
      "  InsecureRequestWarning)\n"
     ]
    },
    {
     "data": {
      "text/plain": [
       "[[1719662400000.0, '0.4556954968951313'],\n",
       " [1719663000000.0, '0.4556954968951313'],\n",
       " [1719663600000.0, '0.4556951921541221'],\n",
       " [1719664200000.0, '0.4420920174230641'],\n",
       " [1719664800000.0, '0.4420920174230641'],\n",
       " [1719665400000.0, '0.4439150453383811'],\n",
       " [1719666000000.0, '0.4439274995812177'],\n",
       " [1719666600000.0, '0.4439274995812177'],\n",
       " [1719667200000.0, '0.4439274995812177'],\n",
       " [1719667800000.0, '0.4439274995812177'],\n",
       " [1719668400000.0, '0.4337891114601501'],\n",
       " [1719669000000.0, '0.4337891114601501'],\n",
       " [1719669600000.0, '0.4330875818776998'],\n",
       " [1719670200000.0, '0.4330804511725689'],\n",
       " [1719670800000.0, '0.4330804511725689'],\n",
       " [1719671400000.0, '0.4330804511725689'],\n",
       " [1719672000000.0, '0.4330806151694391'],\n",
       " [1719672600000.0, '0.4330806151694391'],\n",
       " [1719673200000.0, '0.3468335474563932'],\n",
       " [1719673800000.0, '0.3425869412286964'],\n",
       " [1719674400000.0, '0.3425976814117081'],\n",
       " [1719675000000.0, '0.3425976814117081'],\n",
       " [1719675600000.0, '0.3425976814117081'],\n",
       " [1719676200000.0, '0.3425975902246822'],\n",
       " [1719676800000.0, '0.3425975902246822'],\n",
       " [1719677400000.0, '0.3078796361177039'],\n",
       " [1719678000000.0, '0.3032654381785077'],\n",
       " [1719678600000.0, '0.3032662081708718'],\n",
       " [1719679200000.0, '0.3032662081708718'],\n",
       " [1719679800000.0, '0.3032662081708718'],\n",
       " [1719680400000.0, '0.3032662081708718'],\n",
       " [1719681000000.0, '0.3031836950929674'],\n",
       " [1719681600000.0, '0.2733652047062917'],\n",
       " [1719682200000.0, '0.2710364958339284'],\n",
       " [1719682800000.0, '0.27103361414366'],\n",
       " [1719683400000.0, '0.27103361414366'],\n",
       " [1719684000000.0, '0.27103361414366'],\n",
       " [1719684600000.0, '0.27103361414366'],\n",
       " [1719685200000.0, '0.2710335301046514'],\n",
       " [1719685800000.0, '0.253923506429224'],\n",
       " [1719686400000.0, '0.2526386525863906'],\n",
       " [1719687000000.0, '0.2526260289924472'],\n",
       " [1719687600000.0, '0.2526260289924472'],\n",
       " [1719688200000.0, '0.2526260289924472'],\n",
       " [1719688800000.0, '0.2526260289924472'],\n",
       " [1719689400000.0, '0.2526261004658152'],\n",
       " [1719690000000.0, '0.2053696658350684'],\n",
       " [1719690600000.0, '0.2045103820303101'],\n",
       " [1719691200000.0, '0.2044962069351601'],\n",
       " [1719691800000.0, '0.2044962069351601'],\n",
       " [1719692400000.0, '0.2044962069351601'],\n",
       " [1719693000000.0, '0.2044962069351601'],\n",
       " [1719693600000.0, '0.2044962069351601'],\n",
       " [1719694200000.0, '0.1998511390397506'],\n",
       " [1719694800000.0, '0.199918025018413'],\n",
       " [1719695400000.0, '0.1999194008258036'],\n",
       " [1719696000000.0, '0.1999194008258036'],\n",
       " [1719696600000.0, '0.1999194008258036'],\n",
       " [1719697200000.0, '0.1999194008258036'],\n",
       " [1719697800000.0, '0.1999194008258036'],\n",
       " [1719698400000.0, '0.2015443959984429'],\n",
       " [1719699000000.0, '0.2013339279821908'],\n",
       " [1719699600000.0, '0.2013329862304845'],\n",
       " [1719700200000.0, '0.2013329862304845'],\n",
       " [1719700800000.0, '0.2013329862304845'],\n",
       " [1719701400000.0, '0.2013329862304845'],\n",
       " [1719702000000.0, '0.2013086903200141'],\n",
       " [1719702600000.0, '0.2013086903200141'],\n",
       " [1719703200000.0, '0.2021615521574443'],\n",
       " [1719703800000.0, '0.2021615521574443'],\n",
       " [1719704400000.0, '0.2021615521574443'],\n",
       " [1719705000000.0, '0.2021615521574443'],\n",
       " [1719705600000.0, '0.2021615521574443'],\n",
       " [1719706200000.0, '0.1960199837967826'],\n",
       " [1719706800000.0, '0.1960199837967826'],\n",
       " [1719707400000.0, '0.1955321307112463'],\n",
       " [1719708000000.0, '0.1955351917089642'],\n",
       " [1719708600000.0, '0.1955351917089642'],\n",
       " [1719709200000.0, '0.1955351917089642'],\n",
       " [1719709800000.0, '0.1955351917089642'],\n",
       " [1719710400000.0, '0.1928002370858576'],\n",
       " [1719711000000.0, '0.1928002370858576'],\n",
       " [1719711600000.0, '0.1925792991826987'],\n",
       " [1719712200000.0, '0.1925792991826987'],\n",
       " [1719712800000.0, '0.1925792991826987'],\n",
       " [1719713400000.0, '0.1925792991826987'],\n",
       " [1719714000000.0, '0.1920828131073922'],\n",
       " [1719714600000.0, '0.1920828131073922'],\n",
       " [1719715200000.0, '0.1904054373176825'],\n",
       " [1719715800000.0, '0.1904054373176825'],\n",
       " [1719716400000.0, '0.1904054373176825'],\n",
       " [1719717000000.0, '0.1904054373176825'],\n",
       " [1719717600000.0, '0.1904054373176825'],\n",
       " [1719718200000.0, '0.2157239991377706'],\n",
       " [1719718800000.0, '0.2157239991377706'],\n",
       " [1719719400000.0, '0.2160066427050216'],\n",
       " [1719720000000.0, '0.2160066427050216'],\n",
       " [1719720600000.0, '0.2160066427050216'],\n",
       " [1719721200000.0, '0.215824829234302'],\n",
       " [1719721800000.0, '0.215824829234302'],\n",
       " [1719722400000.0, '0.2147451401019983'],\n",
       " [1719723000000.0, '0.2147659950014817'],\n",
       " [1719723600000.0, '0.2146918521643495'],\n",
       " [1719724200000.0, '0.2146918521643495'],\n",
       " [1719724800000.0, '0.2146918521643495'],\n",
       " [1719725400000.0, '0.2146918521643495'],\n",
       " [1719726000000.0, '0.1904613288579896'],\n",
       " [1719726600000.0, '0.1904613288579896'],\n",
       " [1719727200000.0, '0.190139847552332'],\n",
       " [1719727800000.0, '0.190141426455772'],\n",
       " [1719728400000.0, '0.190141426455772'],\n",
       " [1719729000000.0, '0.190141426455772'],\n",
       " [1719729600000.0, '0.190141426455772'],\n",
       " [1719730200000.0, '0.1585117625385473'],\n",
       " [1719730800000.0, '0.1585117625385473'],\n",
       " [1719731400000.0, '0.1583990574191732'],\n",
       " [1719732000000.0, '0.1583990574191732'],\n",
       " [1719732600000.0, '0.1583990574191732'],\n",
       " [1719733200000.0, '0.1583990574191732'],\n",
       " [1719733800000.0, '0.1583990574191732'],\n",
       " [1719734400000.0, '0.1583990574191732'],\n",
       " [1719735000000.0, '0.1925176775760028'],\n",
       " [1719735600000.0, '0.1938701019333814'],\n",
       " [1719736200000.0, '0.1938701019333814'],\n",
       " [1719736800000.0, '0.1938701019333814'],\n",
       " [1719737400000.0, '0.1938701019333814'],\n",
       " [1719738000000.0, '0.1938701019333814'],\n",
       " [1719738600000.0, '0.1968728029761082'],\n",
       " [1719739200000.0, '0.1968728029761082'],\n",
       " [1719739800000.0, '0.1977444333107074'],\n",
       " [1719740400000.0, '0.197869716509745'],\n",
       " [1719741000000.0, '0.197869716509745'],\n",
       " [1719741600000.0, '0.197869716509745'],\n",
       " [1719742200000.0, '0.1978803910009265'],\n",
       " [1719742800000.0, '0.1996317232681216'],\n",
       " [1719743400000.0, '0.1996317232681216'],\n",
       " [1719744000000.0, '0.1975840359812743'],\n",
       " [1719744600000.0, '0.1975842532580801'],\n",
       " [1719745200000.0, '0.1975842532580801'],\n",
       " [1719745800000.0, '0.1975842532580801'],\n",
       " [1719746400000.0, '0.1975842532580801'],\n",
       " [1719747000000.0, '0.2251948541201923'],\n",
       " [1719747600000.0, '0.2251948541201923'],\n",
       " [1719748200000.0, '0.2248810328509911']]"
      ]
     },
     "execution_count": 11,
     "metadata": {},
     "output_type": "execute_result"
    }
   ],
   "source": [
    "get_last_day_volume('10kswap-starknet-alpha')"
   ]
  },
  {
   "cell_type": "code",
   "execution_count": 12,
   "metadata": {},
   "outputs": [
    {
     "name": "stdout",
     "output_type": "stream",
     "text": [
      "https://api.coingecko.com/api/v3/exchanges/10kswap-starknet-alpha/volume_chart?days=1\n"
     ]
    },
    {
     "name": "stderr",
     "output_type": "stream",
     "text": [
      "/home/ilyagasan/anaconda3/lib/python3.7/site-packages/urllib3/connectionpool.py:857: InsecureRequestWarning: Unverified HTTPS request is being made. Adding certificate verification is strongly advised. See: https://urllib3.readthedocs.io/en/latest/advanced-usage.html#ssl-warnings\n",
      "  InsecureRequestWarning)\n"
     ]
    },
    {
     "name": "stdout",
     "output_type": "stream",
     "text": [
      "https://api.coingecko.com/api/v3/exchanges/1bch/volume_chart?days=1\n"
     ]
    },
    {
     "name": "stderr",
     "output_type": "stream",
     "text": [
      "/home/ilyagasan/anaconda3/lib/python3.7/site-packages/urllib3/connectionpool.py:857: InsecureRequestWarning: Unverified HTTPS request is being made. Adding certificate verification is strongly advised. See: https://urllib3.readthedocs.io/en/latest/advanced-usage.html#ssl-warnings\n",
      "  InsecureRequestWarning)\n"
     ]
    },
    {
     "name": "stdout",
     "output_type": "stream",
     "text": [
      "https://api.coingecko.com/api/v3/exchanges/3xcalibur/volume_chart?days=1\n"
     ]
    },
    {
     "name": "stderr",
     "output_type": "stream",
     "text": [
      "/home/ilyagasan/anaconda3/lib/python3.7/site-packages/urllib3/connectionpool.py:857: InsecureRequestWarning: Unverified HTTPS request is being made. Adding certificate verification is strongly advised. See: https://urllib3.readthedocs.io/en/latest/advanced-usage.html#ssl-warnings\n",
      "  InsecureRequestWarning)\n"
     ]
    },
    {
     "name": "stdout",
     "output_type": "stream",
     "text": [
      "https://api.coingecko.com/api/v3/exchanges/9inch/volume_chart?days=1\n"
     ]
    },
    {
     "name": "stderr",
     "output_type": "stream",
     "text": [
      "/home/ilyagasan/anaconda3/lib/python3.7/site-packages/urllib3/connectionpool.py:857: InsecureRequestWarning: Unverified HTTPS request is being made. Adding certificate verification is strongly advised. See: https://urllib3.readthedocs.io/en/latest/advanced-usage.html#ssl-warnings\n",
      "  InsecureRequestWarning)\n"
     ]
    },
    {
     "name": "stdout",
     "output_type": "stream",
     "text": [
      "https://api.coingecko.com/api/v3/exchanges/aave/volume_chart?days=1\n"
     ]
    },
    {
     "name": "stderr",
     "output_type": "stream",
     "text": [
      "/home/ilyagasan/anaconda3/lib/python3.7/site-packages/urllib3/connectionpool.py:857: InsecureRequestWarning: Unverified HTTPS request is being made. Adding certificate verification is strongly advised. See: https://urllib3.readthedocs.io/en/latest/advanced-usage.html#ssl-warnings\n",
      "  InsecureRequestWarning)\n"
     ]
    },
    {
     "name": "stdout",
     "output_type": "stream",
     "text": [
      "https://api.coingecko.com/api/v3/exchanges/aboard-exchange/volume_chart?days=1\n"
     ]
    },
    {
     "name": "stderr",
     "output_type": "stream",
     "text": [
      "/home/ilyagasan/anaconda3/lib/python3.7/site-packages/urllib3/connectionpool.py:857: InsecureRequestWarning: Unverified HTTPS request is being made. Adding certificate verification is strongly advised. See: https://urllib3.readthedocs.io/en/latest/advanced-usage.html#ssl-warnings\n",
      "  InsecureRequestWarning)\n"
     ]
    },
    {
     "name": "stdout",
     "output_type": "stream",
     "text": [
      "https://api.coingecko.com/api/v3/exchanges/abstradex/volume_chart?days=1\n"
     ]
    },
    {
     "name": "stderr",
     "output_type": "stream",
     "text": [
      "/home/ilyagasan/anaconda3/lib/python3.7/site-packages/urllib3/connectionpool.py:857: InsecureRequestWarning: Unverified HTTPS request is being made. Adding certificate verification is strongly advised. See: https://urllib3.readthedocs.io/en/latest/advanced-usage.html#ssl-warnings\n",
      "  InsecureRequestWarning)\n"
     ]
    },
    {
     "name": "stdout",
     "output_type": "stream",
     "text": [
      "https://api.coingecko.com/api/v3/exchanges/abstradex-x-layer/volume_chart?days=1\n"
     ]
    },
    {
     "name": "stderr",
     "output_type": "stream",
     "text": [
      "/home/ilyagasan/anaconda3/lib/python3.7/site-packages/urllib3/connectionpool.py:857: InsecureRequestWarning: Unverified HTTPS request is being made. Adding certificate verification is strongly advised. See: https://urllib3.readthedocs.io/en/latest/advanced-usage.html#ssl-warnings\n",
      "  InsecureRequestWarning)\n"
     ]
    },
    {
     "name": "stdout",
     "output_type": "stream",
     "text": [
      "https://api.coingecko.com/api/v3/exchanges/acala_swap/volume_chart?days=1\n"
     ]
    },
    {
     "name": "stderr",
     "output_type": "stream",
     "text": [
      "/home/ilyagasan/anaconda3/lib/python3.7/site-packages/urllib3/connectionpool.py:857: InsecureRequestWarning: Unverified HTTPS request is being made. Adding certificate verification is strongly advised. See: https://urllib3.readthedocs.io/en/latest/advanced-usage.html#ssl-warnings\n",
      "  InsecureRequestWarning)\n"
     ]
    },
    {
     "name": "stdout",
     "output_type": "stream",
     "text": [
      "https://api.coingecko.com/api/v3/exchanges/acdx/volume_chart?days=1\n"
     ]
    },
    {
     "name": "stderr",
     "output_type": "stream",
     "text": [
      "/home/ilyagasan/anaconda3/lib/python3.7/site-packages/urllib3/connectionpool.py:857: InsecureRequestWarning: Unverified HTTPS request is being made. Adding certificate verification is strongly advised. See: https://urllib3.readthedocs.io/en/latest/advanced-usage.html#ssl-warnings\n",
      "  InsecureRequestWarning)\n"
     ]
    },
    {
     "name": "stdout",
     "output_type": "stream",
     "text": [
      "https://api.coingecko.com/api/v3/exchanges/ace/volume_chart?days=1\n"
     ]
    },
    {
     "name": "stderr",
     "output_type": "stream",
     "text": [
      "/home/ilyagasan/anaconda3/lib/python3.7/site-packages/urllib3/connectionpool.py:857: InsecureRequestWarning: Unverified HTTPS request is being made. Adding certificate verification is strongly advised. See: https://urllib3.readthedocs.io/en/latest/advanced-usage.html#ssl-warnings\n",
      "  InsecureRequestWarning)\n"
     ]
    },
    {
     "name": "stdout",
     "output_type": "stream",
     "text": [
      "https://api.coingecko.com/api/v3/exchanges/acsi_finance/volume_chart?days=1\n"
     ]
    },
    {
     "name": "stderr",
     "output_type": "stream",
     "text": [
      "/home/ilyagasan/anaconda3/lib/python3.7/site-packages/urllib3/connectionpool.py:857: InsecureRequestWarning: Unverified HTTPS request is being made. Adding certificate verification is strongly advised. See: https://urllib3.readthedocs.io/en/latest/advanced-usage.html#ssl-warnings\n",
      "  InsecureRequestWarning)\n"
     ]
    },
    {
     "name": "stdout",
     "output_type": "stream",
     "text": [
      "https://api.coingecko.com/api/v3/exchanges/aerodrome-base/volume_chart?days=1\n"
     ]
    },
    {
     "name": "stderr",
     "output_type": "stream",
     "text": [
      "/home/ilyagasan/anaconda3/lib/python3.7/site-packages/urllib3/connectionpool.py:857: InsecureRequestWarning: Unverified HTTPS request is being made. Adding certificate verification is strongly advised. See: https://urllib3.readthedocs.io/en/latest/advanced-usage.html#ssl-warnings\n",
      "  InsecureRequestWarning)\n"
     ]
    },
    {
     "name": "stdout",
     "output_type": "stream",
     "text": [
      "https://api.coingecko.com/api/v3/exchanges/aerodrome-slipstream/volume_chart?days=1\n"
     ]
    },
    {
     "name": "stderr",
     "output_type": "stream",
     "text": [
      "/home/ilyagasan/anaconda3/lib/python3.7/site-packages/urllib3/connectionpool.py:857: InsecureRequestWarning: Unverified HTTPS request is being made. Adding certificate verification is strongly advised. See: https://urllib3.readthedocs.io/en/latest/advanced-usage.html#ssl-warnings\n",
      "  InsecureRequestWarning)\n"
     ]
    },
    {
     "name": "stdout",
     "output_type": "stream",
     "text": [
      "https://api.coingecko.com/api/v3/exchanges/aevo/volume_chart?days=1\n"
     ]
    },
    {
     "name": "stderr",
     "output_type": "stream",
     "text": [
      "/home/ilyagasan/anaconda3/lib/python3.7/site-packages/urllib3/connectionpool.py:857: InsecureRequestWarning: Unverified HTTPS request is being made. Adding certificate verification is strongly advised. See: https://urllib3.readthedocs.io/en/latest/advanced-usage.html#ssl-warnings\n",
      "  InsecureRequestWarning)\n"
     ]
    },
    {
     "name": "stdout",
     "output_type": "stream",
     "text": [
      "https://api.coingecko.com/api/v3/exchanges/aftermath_finance/volume_chart?days=1\n"
     ]
    },
    {
     "name": "stderr",
     "output_type": "stream",
     "text": [
      "/home/ilyagasan/anaconda3/lib/python3.7/site-packages/urllib3/connectionpool.py:857: InsecureRequestWarning: Unverified HTTPS request is being made. Adding certificate verification is strongly advised. See: https://urllib3.readthedocs.io/en/latest/advanced-usage.html#ssl-warnings\n",
      "  InsecureRequestWarning)\n"
     ]
    },
    {
     "name": "stdout",
     "output_type": "stream",
     "text": [
      "https://api.coingecko.com/api/v3/exchanges/agni-finance/volume_chart?days=1\n"
     ]
    },
    {
     "name": "stderr",
     "output_type": "stream",
     "text": [
      "/home/ilyagasan/anaconda3/lib/python3.7/site-packages/urllib3/connectionpool.py:857: InsecureRequestWarning: Unverified HTTPS request is being made. Adding certificate verification is strongly advised. See: https://urllib3.readthedocs.io/en/latest/advanced-usage.html#ssl-warnings\n",
      "  InsecureRequestWarning)\n"
     ]
    },
    {
     "name": "stdout",
     "output_type": "stream",
     "text": [
      "https://api.coingecko.com/api/v3/exchanges/agora_swap/volume_chart?days=1\n"
     ]
    },
    {
     "name": "stderr",
     "output_type": "stream",
     "text": [
      "/home/ilyagasan/anaconda3/lib/python3.7/site-packages/urllib3/connectionpool.py:857: InsecureRequestWarning: Unverified HTTPS request is being made. Adding certificate verification is strongly advised. See: https://urllib3.readthedocs.io/en/latest/advanced-usage.html#ssl-warnings\n",
      "  InsecureRequestWarning)\n"
     ]
    },
    {
     "name": "stdout",
     "output_type": "stream",
     "text": [
      "https://api.coingecko.com/api/v3/exchanges/aktionariat-ethereum/volume_chart?days=1\n"
     ]
    },
    {
     "name": "stderr",
     "output_type": "stream",
     "text": [
      "/home/ilyagasan/anaconda3/lib/python3.7/site-packages/urllib3/connectionpool.py:857: InsecureRequestWarning: Unverified HTTPS request is being made. Adding certificate verification is strongly advised. See: https://urllib3.readthedocs.io/en/latest/advanced-usage.html#ssl-warnings\n",
      "  InsecureRequestWarning)\n"
     ]
    },
    {
     "name": "stdout",
     "output_type": "stream",
     "text": [
      "https://api.coingecko.com/api/v3/exchanges/alcor/volume_chart?days=1\n"
     ]
    },
    {
     "name": "stderr",
     "output_type": "stream",
     "text": [
      "/home/ilyagasan/anaconda3/lib/python3.7/site-packages/urllib3/connectionpool.py:857: InsecureRequestWarning: Unverified HTTPS request is being made. Adding certificate verification is strongly advised. See: https://urllib3.readthedocs.io/en/latest/advanced-usage.html#ssl-warnings\n",
      "  InsecureRequestWarning)\n"
     ]
    }
   ],
   "source": [
    "values_dict = dict()\n",
    "for coin_id in coins_ids:\n",
    "    values_dict[coin_id] = []\n",
    "\n",
    "for coin_id in coins_ids:\n",
    "    data = get_last_day_volume(coin_id)\n",
    "    for cost in data:\n",
    "        values_dict[coin_id].append(cost[1])\n",
    "    time.sleep(12)"
   ]
  },
  {
   "cell_type": "code",
   "execution_count": 13,
   "metadata": {},
   "outputs": [],
   "source": [
    "from confluent_kafka import Producer\n",
    "\n",
    "from datetime import datetime\n",
    "import socket"
   ]
  },
  {
   "cell_type": "code",
   "execution_count": null,
   "metadata": {},
   "outputs": [],
   "source": []
  },
  {
   "cell_type": "code",
   "execution_count": 14,
   "metadata": {},
   "outputs": [],
   "source": [
    "topick = 'coins_stock'\n",
    "\n",
    "config =  {'bootstrap.servers': 'localhost:9092',\n",
    "    'client.id': socket.gethostname()}\n",
    "\n",
    "producer = Producer(config)"
   ]
  },
  {
   "cell_type": "code",
   "execution_count": 20,
   "metadata": {},
   "outputs": [
    {
     "name": "stdout",
     "output_type": "stream",
     "text": [
      "10kswap-starknet-alpha\n",
      "1bch\n",
      "3xcalibur\n",
      "9inch\n",
      "aave\n",
      "aboard-exchange\n",
      "abstradex\n",
      "abstradex-x-layer\n",
      "acala_swap\n",
      "acdx\n",
      "ace\n",
      "acsi_finance\n",
      "aerodrome-base\n",
      "aerodrome-slipstream\n",
      "aevo\n",
      "aftermath_finance\n",
      "agni-finance\n",
      "agora_swap\n",
      "aktionariat-ethereum\n",
      "alcor\n"
     ]
    },
    {
     "data": {
      "text/plain": [
       "0"
      ]
     },
     "execution_count": 20,
     "metadata": {},
     "output_type": "execute_result"
    }
   ],
   "source": [
    "message = dict()\n",
    "for key in values_dict.keys():\n",
    "    message[\"name\"] = key\n",
    "    message[\"values\"] = values_dict[key]\n",
    "    message_bytes = str.encode(json.dumps(message))\n",
    "\n",
    "    producer.produce(\n",
    "    topic =topick,\n",
    "    value=message_bytes,\n",
    "    partition=0,\n",
    "    )\n",
    "    print(key)\n",
    "producer.flush()\n"
   ]
  },
  {
   "cell_type": "code",
   "execution_count": 36,
   "metadata": {},
   "outputs": [],
   "source": [
    "from kafka.admin import KafkaAdminClient"
   ]
  },
  {
   "cell_type": "code",
   "execution_count": 51,
   "metadata": {},
   "outputs": [
    {
     "name": "stdout",
     "output_type": "stream",
     "text": [
      "Список топиков в Kafka:\n",
      "coins_stock\n",
      "__consumer_offsets\n"
     ]
    }
   ],
   "source": [
    "kafka_bootstrap_servers = 'localhost:9092'  # Замените на адрес вашего Kafka брокера\n",
    "\n",
    "# Создаем клиент KafkaAdminClient\n",
    "admin_client = KafkaAdminClient(\n",
    "    bootstrap_servers=kafka_bootstrap_servers,\n",
    "    client_id='my_client'\n",
    ")\n",
    "topics = admin_client.list_topics()\n",
    "\n",
    "# Выводим список топиков\n",
    "print(\"Список топиков в Kafka:\")\n",
    "for topic in topics:\n",
    "    print(topic)"
   ]
  },
  {
   "cell_type": "code",
   "execution_count": 40,
   "metadata": {},
   "outputs": [
    {
     "name": "stdout",
     "output_type": "stream",
     "text": [
      "Топик 'coins_stock' удален.\n"
     ]
    }
   ],
   "source": [
    "from confluent_kafka.admin import AdminClient\n",
    "\n",
    "# Параметры подключения к Kafka\n",
    "kafka_bootstrap_servers = 'localhost:9092'  # Замените на адрес вашего Kafka брокера\n",
    "\n",
    "# Создаем клиент AdminClient\n",
    "admin_client = AdminClient({\n",
    "    'bootstrap.servers': kafka_bootstrap_servers\n",
    "})\n",
    "\n",
    "# Удаляем топик\n",
    "future = admin_client.delete_topics(['coins_stock'])\n",
    "result = future['coins_stock'].result()  # Ждем результата операции\n",
    "\n",
    "if result is None:\n",
    "    print(\"Топик 'coins_stock' удален.\")\n",
    "else:\n",
    "    print(f\"Ошибка при удалении топика: {result}\")"
   ]
  }
 ],
 "metadata": {
  "kernelspec": {
   "display_name": "Python 3",
   "language": "python",
   "name": "python3"
  },
  "language_info": {
   "codemirror_mode": {
    "name": "ipython",
    "version": 3
   },
   "file_extension": ".py",
   "mimetype": "text/x-python",
   "name": "python",
   "nbconvert_exporter": "python",
   "pygments_lexer": "ipython3",
   "version": "3.7.0"
  }
 },
 "nbformat": 4,
 "nbformat_minor": 2
}
