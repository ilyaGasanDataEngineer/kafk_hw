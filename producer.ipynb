{
 "cells": [
  {
   "cell_type": "markdown",
   "metadata": {},
   "source": [
    "# Home work Kafka\n"
   ]
  },
  {
   "cell_type": "markdown",
   "metadata": {},
   "source": [
    "## Pipeline getting Data"
   ]
  },
  {
   "cell_type": "code",
   "execution_count": 10,
   "metadata": {},
   "outputs": [],
   "source": [
    "import requests\n",
    "import sqlite3 as sql\n",
    "import pandas as pd\n",
    "import json\n",
    "import time\n",
    "import certifi\n"
   ]
  },
  {
   "cell_type": "code",
   "execution_count": 26,
   "metadata": {},
   "outputs": [],
   "source": [
    "def get_list_stock() -> dict:\n",
    "    url_stock = 'https://api.coingecko.com/api/v3/exchanges/list'\n",
    "    response = requests.get(url_stock, verify=certifi.where())\n",
    "    return json.loads(response.text)\n",
    "\n",
    "def get_last_day_volume(id_stock: str) -> dict:\n",
    "    url_response = f'https://api.coingecko.com/api/v3/exchanges/{id_stock}/volume_chart?days=1'\n",
    "    print(url_response)\n",
    "    response = requests.get(url_response, certifi.where())\n",
    "    return json.loads(response.text)"
   ]
  },
  {
   "cell_type": "code",
   "execution_count": null,
   "metadata": {},
   "outputs": [],
   "source": [
    "requests.warnings\n",
    "list_stock = get_list_stock()\n",
    "coins_ids = [x['id'] for x in list_stock]\n"
   ]
  },
  {
   "cell_type": "markdown",
   "metadata": {},
   "source": [
    "## Getting Data from coingeco"
   ]
  },
  {
   "cell_type": "code",
   "execution_count": null,
   "metadata": {},
   "outputs": [
    {
     "name": "stdout",
     "output_type": "stream",
     "text": [
      "https://api.coingecko.com/api/v3/exchanges/10kswap-starknet-alpha/volume_chart?days=1\n",
      "https://api.coingecko.com/api/v3/exchanges/1bch/volume_chart?days=1\n",
      "https://api.coingecko.com/api/v3/exchanges/3xcalibur/volume_chart?days=1\n",
      "https://api.coingecko.com/api/v3/exchanges/9inch/volume_chart?days=1\n",
      "https://api.coingecko.com/api/v3/exchanges/aave/volume_chart?days=1\n",
      "https://api.coingecko.com/api/v3/exchanges/aboard-exchange/volume_chart?days=1\n",
      "https://api.coingecko.com/api/v3/exchanges/abstradex/volume_chart?days=1\n",
      "https://api.coingecko.com/api/v3/exchanges/abstradex-x-layer/volume_chart?days=1\n",
      "https://api.coingecko.com/api/v3/exchanges/acala_swap/volume_chart?days=1\n",
      "https://api.coingecko.com/api/v3/exchanges/acdx/volume_chart?days=1\n",
      "https://api.coingecko.com/api/v3/exchanges/ace/volume_chart?days=1\n",
      "https://api.coingecko.com/api/v3/exchanges/acsi_finance/volume_chart?days=1\n",
      "https://api.coingecko.com/api/v3/exchanges/aerodrome-base/volume_chart?days=1\n",
      "https://api.coingecko.com/api/v3/exchanges/aerodrome-slipstream/volume_chart?days=1\n",
      "https://api.coingecko.com/api/v3/exchanges/aevo/volume_chart?days=1\n",
      "https://api.coingecko.com/api/v3/exchanges/aftermath_finance/volume_chart?days=1\n",
      "https://api.coingecko.com/api/v3/exchanges/agni-finance/volume_chart?days=1\n",
      "https://api.coingecko.com/api/v3/exchanges/agora_swap/volume_chart?days=1\n",
      "https://api.coingecko.com/api/v3/exchanges/aktionariat-ethereum/volume_chart?days=1\n",
      "https://api.coingecko.com/api/v3/exchanges/alcor/volume_chart?days=1\n",
      "https://api.coingecko.com/api/v3/exchanges/alexgo/volume_chart?days=1\n",
      "https://api.coingecko.com/api/v3/exchanges/algebra_finance/volume_chart?days=1\n",
      "https://api.coingecko.com/api/v3/exchanges/alien-base/volume_chart?days=1\n",
      "https://api.coingecko.com/api/v3/exchanges/alienfi/volume_chart?days=1\n",
      "https://api.coingecko.com/api/v3/exchanges/allinxswap-opbnb/volume_chart?days=1\n",
      "https://api.coingecko.com/api/v3/exchanges/altcointrader/volume_chart?days=1\n",
      "https://api.coingecko.com/api/v3/exchanges/alterdice/volume_chart?days=1\n",
      "https://api.coingecko.com/api/v3/exchanges/amaterasu/volume_chart?days=1\n",
      "https://api.coingecko.com/api/v3/exchanges/animeswap/volume_chart?days=1\n",
      "https://api.coingecko.com/api/v3/exchanges/antfarm-avalanche/volume_chart?days=1\n",
      "https://api.coingecko.com/api/v3/exchanges/antfarm-ethereum/volume_chart?days=1\n",
      "https://api.coingecko.com/api/v3/exchanges/apertureswap/volume_chart?days=1\n",
      "https://api.coingecko.com/api/v3/exchanges/apeswap-arbitrum/volume_chart?days=1\n",
      "https://api.coingecko.com/api/v3/exchanges/apeswap_bsc/volume_chart?days=1\n",
      "https://api.coingecko.com/api/v3/exchanges/apeswap_polygon/volume_chart?days=1\n",
      "https://api.coingecko.com/api/v3/exchanges/apeswap_telos/volume_chart?days=1\n",
      "https://api.coingecko.com/api/v3/exchanges/apex_pro/volume_chart?days=1\n",
      "https://api.coingecko.com/api/v3/exchanges/aprobit/volume_chart?days=1\n",
      "https://api.coingecko.com/api/v3/exchanges/aqx/volume_chart?days=1\n",
      "https://api.coingecko.com/api/v3/exchanges/aqx_derivatives/volume_chart?days=1\n",
      "https://api.coingecko.com/api/v3/exchanges/arbidex/volume_chart?days=1\n",
      "https://api.coingecko.com/api/v3/exchanges/arbswap_arbitrum_one/volume_chart?days=1\n",
      "https://api.coingecko.com/api/v3/exchanges/archerswap/volume_chart?days=1\n",
      "https://api.coingecko.com/api/v3/exchanges/armada/volume_chart?days=1\n",
      "https://api.coingecko.com/api/v3/exchanges/arthswap/volume_chart?days=1\n",
      "https://api.coingecko.com/api/v3/exchanges/arthswap-astar-zkevm/volume_chart?days=1\n",
      "https://api.coingecko.com/api/v3/exchanges/ashswap/volume_chart?days=1\n",
      "https://api.coingecko.com/api/v3/exchanges/astroport_injective/volume_chart?days=1\n",
      "https://api.coingecko.com/api/v3/exchanges/astroport_neutron/volume_chart?days=1\n",
      "https://api.coingecko.com/api/v3/exchanges/astroport_osmosis/volume_chart?days=1\n",
      "https://api.coingecko.com/api/v3/exchanges/astroport-sei/volume_chart?days=1\n",
      "https://api.coingecko.com/api/v3/exchanges/astroport_v2/volume_chart?days=1\n",
      "https://api.coingecko.com/api/v3/exchanges/astrovault/volume_chart?days=1\n",
      "https://api.coingecko.com/api/v3/exchanges/auroraswap/volume_chart?days=1\n",
      "https://api.coingecko.com/api/v3/exchanges/autoshark_finance/volume_chart?days=1\n",
      "https://api.coingecko.com/api/v3/exchanges/aux/volume_chart?days=1\n",
      "https://api.coingecko.com/api/v3/exchanges/ayin/volume_chart?days=1\n",
      "https://api.coingecko.com/api/v3/exchanges/azbit/volume_chart?days=1\n",
      "https://api.coingecko.com/api/v3/exchanges/babydogeswap/volume_chart?days=1\n",
      "https://api.coingecko.com/api/v3/exchanges/babyswap/volume_chart?days=1\n",
      "https://api.coingecko.com/api/v3/exchanges/backpack_exchange/volume_chart?days=1\n",
      "https://api.coingecko.com/api/v3/exchanges/baguette/volume_chart?days=1\n",
      "https://api.coingecko.com/api/v3/exchanges/bakeryswap/volume_chart?days=1\n",
      "https://api.coingecko.com/api/v3/exchanges/bakeryswap-base/volume_chart?days=1\n",
      "https://api.coingecko.com/api/v3/exchanges/balanced_network/volume_chart?days=1\n",
      "https://api.coingecko.com/api/v3/exchanges/balancer/volume_chart?days=1\n",
      "https://api.coingecko.com/api/v3/exchanges/balancer_arbitrum/volume_chart?days=1\n",
      "https://api.coingecko.com/api/v3/exchanges/balancer-gnosis/volume_chart?days=1\n",
      "https://api.coingecko.com/api/v3/exchanges/balancer_polygon/volume_chart?days=1\n",
      "https://api.coingecko.com/api/v3/exchanges/balancer_v1/volume_chart?days=1\n",
      "https://api.coingecko.com/api/v3/exchanges/balancer-v2-avalanche/volume_chart?days=1\n",
      "https://api.coingecko.com/api/v3/exchanges/balancer-v2-base/volume_chart?days=1\n",
      "https://api.coingecko.com/api/v3/exchanges/balancer-v2-polygon-zkevm/volume_chart?days=1\n",
      "https://api.coingecko.com/api/v3/exchanges/bancor/volume_chart?days=1\n",
      "https://api.coingecko.com/api/v3/exchanges/bancor_v3/volume_chart?days=1\n",
      "https://api.coingecko.com/api/v3/exchanges/baptswap/volume_chart?days=1\n",
      "https://api.coingecko.com/api/v3/exchanges/baryon_network/volume_chart?days=1\n",
      "https://api.coingecko.com/api/v3/exchanges/baryon-network-viction/volume_chart?days=1\n",
      "https://api.coingecko.com/api/v3/exchanges/baseswap/volume_chart?days=1\n",
      "https://api.coingecko.com/api/v3/exchanges/baseswap-v3/volume_chart?days=1\n",
      "https://api.coingecko.com/api/v3/exchanges/basex/volume_chart?days=1\n",
      "https://api.coingecko.com/api/v3/exchanges/basin/volume_chart?days=1\n",
      "https://api.coingecko.com/api/v3/exchanges/baso-finance/volume_chart?days=1\n",
      "https://api.coingecko.com/api/v3/exchanges/bcex/volume_chart?days=1\n",
      "https://api.coingecko.com/api/v3/exchanges/beamswap/volume_chart?days=1\n",
      "https://api.coingecko.com/api/v3/exchanges/beam-swap/volume_chart?days=1\n",
      "https://api.coingecko.com/api/v3/exchanges/beethovenx/volume_chart?days=1\n",
      "https://api.coingecko.com/api/v3/exchanges/beethoven_x_optimism/volume_chart?days=1\n",
      "https://api.coingecko.com/api/v3/exchanges/benswap_smart_bitcoin_cash/volume_chart?days=1\n",
      "https://api.coingecko.com/api/v3/exchanges/bevmswap/volume_chart?days=1\n",
      "https://api.coingecko.com/api/v3/exchanges/bibox/volume_chart?days=1\n",
      "https://api.coingecko.com/api/v3/exchanges/bibox_futures/volume_chart?days=1\n",
      "https://api.coingecko.com/api/v3/exchanges/biconomy/volume_chart?days=1\n",
      "https://api.coingecko.com/api/v3/exchanges/bifrost_swap/volume_chart?days=1\n",
      "https://api.coingecko.com/api/v3/exchanges/bigone/volume_chart?days=1\n",
      "https://api.coingecko.com/api/v3/exchanges/bigone_futures/volume_chart?days=1\n",
      "https://api.coingecko.com/api/v3/exchanges/bilaxy/volume_chart?days=1\n",
      "https://api.coingecko.com/api/v3/exchanges/binance/volume_chart?days=1\n",
      "https://api.coingecko.com/api/v3/exchanges/binance_dex/volume_chart?days=1\n",
      "https://api.coingecko.com/api/v3/exchanges/binance_dex_mini/volume_chart?days=1\n",
      "https://api.coingecko.com/api/v3/exchanges/binance_futures/volume_chart?days=1\n",
      "https://api.coingecko.com/api/v3/exchanges/binance_us/volume_chart?days=1\n",
      "https://api.coingecko.com/api/v3/exchanges/binaryswap/volume_chart?days=1\n",
      "https://api.coingecko.com/api/v3/exchanges/bingx/volume_chart?days=1\n",
      "https://api.coingecko.com/api/v3/exchanges/bingx_futures/volume_chart?days=1\n",
      "https://api.coingecko.com/api/v3/exchanges/birake/volume_chart?days=1\n",
      "https://api.coingecko.com/api/v3/exchanges/bisq/volume_chart?days=1\n",
      "https://api.coingecko.com/api/v3/exchanges/biswap/volume_chart?days=1\n",
      "https://api.coingecko.com/api/v3/exchanges/biswap-v3-1/volume_chart?days=1\n",
      "https://api.coingecko.com/api/v3/exchanges/bit2c/volume_chart?days=1\n",
      "https://api.coingecko.com/api/v3/exchanges/bit2me/volume_chart?days=1\n",
      "https://api.coingecko.com/api/v3/exchanges/bitazza/volume_chart?days=1\n",
      "https://api.coingecko.com/api/v3/exchanges/bitbank/volume_chart?days=1\n"
     ]
    }
   ],
   "source": [
    "values_dict = dict()\n",
    "for coin_id in coins_ids:\n",
    "    values_dict[coin_id] = []\n",
    "\n",
    "for coin_id in coins_ids:\n",
    "    data = get_last_day_volume(coin_id)\n",
    "    for cost in data:\n",
    "        values_dict[coin_id].append(cost[1])\n",
    "    time.sleep(12)"
   ]
  },
  {
   "cell_type": "markdown",
   "metadata": {},
   "source": [
    "## Producer "
   ]
  },
  {
   "cell_type": "code",
   "execution_count": null,
   "metadata": {},
   "outputs": [],
   "source": [
    "from confluent_kafka import Producer\n",
    "from datetime import datetime\n",
    "import socket"
   ]
  },
  {
   "cell_type": "code",
   "execution_count": null,
   "metadata": {},
   "outputs": [],
   "source": [
    "topick = 'coins_stock'\n",
    "\n",
    "config =  {'bootstrap.servers': 'localhost:9092',\n",
    "    'client.id': socket.gethostname()}\n",
    "\n",
    "producer = Producer(config)"
   ]
  },
  {
   "cell_type": "code",
   "execution_count": null,
   "metadata": {},
   "outputs": [],
   "source": [
    "message = dict()\n",
    "for key in values_dict.keys():\n",
    "    message[\"name\"] = key\n",
    "    message[\"values\"] = values_dict[key]\n",
    "    message_bytes = str.encode(json.dumps(message))\n",
    "\n",
    "    producer.produce(\n",
    "    topic =topick,\n",
    "    value=message_bytes,\n",
    "    partition=0,\n",
    "    )\n",
    "    print(key)\n",
    "producer.flush()\n"
   ]
  },
  {
   "cell_type": "markdown",
   "metadata": {},
   "source": [
    "#  для дальнейшей работы системы не останавливайте producer (ячейку сверху) перейдите в файл consumer.ipynb"
   ]
  },
  {
   "cell_type": "markdown",
   "metadata": {},
   "source": [
    "## more information about kafka"
   ]
  },
  {
   "cell_type": "code",
   "execution_count": 36,
   "metadata": {},
   "outputs": [],
   "source": [
    "from kafka.admin import KafkaAdminClient"
   ]
  },
  {
   "cell_type": "code",
   "execution_count": 51,
   "metadata": {},
   "outputs": [
    {
     "name": "stdout",
     "output_type": "stream",
     "text": [
      "Список топиков в Kafka:\n",
      "coins_stock\n",
      "__consumer_offsets\n"
     ]
    }
   ],
   "source": [
    "kafka_bootstrap_servers = 'localhost:9092'  # Замените на адрес вашего Kafka брокера\n",
    "\n",
    "# Создаем клиент KafkaAdminClient\n",
    "admin_client = KafkaAdminClient(\n",
    "    bootstrap_servers=kafka_bootstrap_servers,\n",
    "    client_id='my_client'\n",
    ")\n",
    "topics = admin_client.list_topics()\n",
    "\n",
    "# Выводим список топиков\n",
    "print(\"Список топиков в Kafka:\")\n",
    "for topic in topics:\n",
    "    print(topic)"
   ]
  },
  {
   "cell_type": "code",
   "execution_count": 40,
   "metadata": {},
   "outputs": [
    {
     "name": "stdout",
     "output_type": "stream",
     "text": [
      "Топик 'coins_stock' удален.\n"
     ]
    }
   ],
   "source": [
    "#from confluent_kafka.admin import AdminClient\n",
    "\n",
    "# Параметры подключения к Kafka\n",
    "kafka_bootstrap_servers = 'localhost:9092'  \n",
    "\n",
    "# Создаем клиент AdminClient\n",
    "admin_client = AdminClient({\n",
    "    'bootstrap.servers': kafka_bootstrap_servers\n",
    "})\n",
    "\n",
    "# Удаляем топик\n",
    "future = admin_client.delete_topics(['coins_stock'])\n",
    "result = future['coins_stock'].result()  \n",
    "\n",
    "if result is None:\n",
    "    print(\"Топик 'coins_stock' удален.\")\n",
    "else:\n",
    "    print(f\"Ошибка при удалении топика: {result}\")"
   ]
  }
 ],
 "metadata": {
  "kernelspec": {
   "display_name": "Python 3",
   "language": "python",
   "name": "python3"
  },
  "language_info": {
   "codemirror_mode": {
    "name": "ipython",
    "version": 3
   },
   "file_extension": ".py",
   "mimetype": "text/x-python",
   "name": "python",
   "nbconvert_exporter": "python",
   "pygments_lexer": "ipython3",
   "version": "3.7.0"
  }
 },
 "nbformat": 4,
 "nbformat_minor": 2
}
